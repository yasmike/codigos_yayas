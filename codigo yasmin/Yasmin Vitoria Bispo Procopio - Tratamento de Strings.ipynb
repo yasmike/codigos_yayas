{
 "cells": [
  {
   "cell_type": "markdown",
   "id": "423a416a",
   "metadata": {},
   "source": [
    "### Tratamentos de Texto (string)\n",
    "\n",
    "Objetivo: Mostrar a importância de manipular textos em programação.\n",
    "\n",
    "\n",
    "\n",
    "\"Vocês já pensaram como os apps sabem seu nome quando você faz login? Ou como o Instagram mostra seu username em letras minúsculas? Tudo isso usa tratamento de strings!\"\n",
    "\n",
    "O que é uma String?\n",
    "\n",
    "Sequência de caracteres (letras, números, símbolos).\n",
    "\n",
    "Em Python, vem entre \"aspas\"."
   ]
  },
  {
   "cell_type": "markdown",
   "id": "5f38bab9",
   "metadata": {},
   "source": [
    "### 2 - Operações Básicas com strings (textos)\n",
    "\n",
    "a) Juntar textos ou em outras palavras concatenar"
   ]
  },
  {
   "cell_type": "code",
   "execution_count": null,
   "id": "5cd6b8e7",
   "metadata": {},
   "outputs": [
    {
     "name": "stdout",
     "output_type": "stream",
     "text": [
      "Samuel Silva\n"
     ]
    }
   ],
   "source": [
    "nome = \"samuel\"  \n",
    "sobrenome = \"Silva\"  \n",
    "nome_completo = nome + \" \" + sobrenome  \n",
    "print(nome_completo) "
   ]
  },
  {
   "cell_type": "code",
   "execution_count": 2,
   "id": "a03ea409",
   "metadata": {},
   "outputs": [
    {
     "name": "stdout",
     "output_type": "stream",
     "text": [
      "yasmin vitoria\n"
     ]
    }
   ],
   "source": [
    "nome = \"yasmin\"  \n",
    "sobrenome = \"vitoria\"  \n",
    "nome_completo = nome + \" \" + sobrenome  \n",
    "print(nome_completo) "
   ]
  },
  {
   "cell_type": "markdown",
   "id": "f2fddf3a",
   "metadata": {},
   "source": [
    "b) Tamanho da String\n"
   ]
  },
  {
   "cell_type": "code",
   "execution_count": 3,
   "id": "1a01fe4d",
   "metadata": {},
   "outputs": [
    {
     "name": "stdout",
     "output_type": "stream",
     "text": [
      "6\n"
     ]
    }
   ],
   "source": [
    "tamanho = len(nome)\n",
    "print(tamanho)\n"
   ]
  },
  {
   "cell_type": "markdown",
   "id": "6222c7c4",
   "metadata": {},
   "source": [
    "c) Acessar Letras (Índices)"
   ]
  },
  {
   "cell_type": "code",
   "execution_count": 6,
   "id": "21af5f71",
   "metadata": {},
   "outputs": [
    {
     "name": "stdout",
     "output_type": "stream",
     "text": [
      "O\n",
      "a\n"
     ]
    }
   ],
   "source": [
    "frase = \"Olá meus garotos(a) de Programa\"  \n",
    "print(frase[0])   # 'O' (primeira letra)  \n",
    "print(frase[-1])  # 'a' (última letra)"
   ]
  },
  {
   "cell_type": "markdown",
   "id": "05b42fdb",
   "metadata": {},
   "source": [
    "d) Fatiamento (Slicing)"
   ]
  },
  {
   "cell_type": "code",
   "execution_count": 8,
   "id": "50f44874",
   "metadata": {},
   "outputs": [
    {
     "name": "stdout",
     "output_type": "stream",
     "text": [
      "mateus\n",
      "@gmail.com\n"
     ]
    }
   ],
   "source": [
    "email = \"mateus@gmail.com\"  \n",
    "print(email[:6])    # \"mateus\" (do início até o índice 6)  \n",
    "print(email[6:16])  # \"gmail\" (do índice 8 ao 12)"
   ]
  },
  {
   "cell_type": "code",
   "execution_count": 9,
   "id": "d3b0ae90",
   "metadata": {},
   "outputs": [
    {
     "name": "stdout",
     "output_type": "stream",
     "text": [
      "qui grandao\n"
     ]
    }
   ],
   "source": [
    "### qual o tamanho\n",
    "nome = \"yasmin\" \n",
    "if len (nome) < 5:\n",
    "   print (\"qui piquinininho\")\n",
    "else:\n",
    "   print (\"qui grandao\")"
   ]
  },
  {
   "cell_type": "markdown",
   "id": "6f09cf29",
   "metadata": {},
   "source": [
    "### 3. Métodos Úteis"
   ]
  },
  {
   "cell_type": "markdown",
   "id": "0f891d89",
   "metadata": {},
   "source": [
    "a) Conversão de minúsculas para maiúsculas "
   ]
  },
  {
   "cell_type": "code",
   "execution_count": 7,
   "id": "87258ddf",
   "metadata": {},
   "outputs": [
    {
     "name": "stdout",
     "output_type": "stream",
     "text": [
      "python é demais!\n",
      "PYTHON É DEMAIS!\n"
     ]
    }
   ],
   "source": [
    "texto = \"Python é Demais!\"  \n",
    "print(texto.lower())   # \"python é demais!\"  \n",
    "print(texto.upper())   # \"PYTHON É DEMAIS!\""
   ]
  },
  {
   "cell_type": "markdown",
   "id": "926010d9",
   "metadata": {},
   "source": [
    "b) Substituição"
   ]
  },
  {
   "cell_type": "code",
   "execution_count": 10,
   "id": "d17e64d6",
   "metadata": {},
   "outputs": [
    {
     "name": "stdout",
     "output_type": "stream",
     "text": [
      "Eu adoro segunda-feira\n"
     ]
    }
   ],
   "source": [
    "mensagem = \"Eu odeio segunda-feira\"  \n",
    "print(mensagem.replace(\"odeio\", \"adoro\"))  # \"Eu adoro segunda-feira\""
   ]
  },
  {
   "cell_type": "code",
   "execution_count": 12,
   "id": "29a44197",
   "metadata": {},
   "outputs": [
    {
     "name": "stdout",
     "output_type": "stream",
     "text": [
      "eu amo muito o professor\n"
     ]
    }
   ],
   "source": [
    "frase= \"eu odeio o professor\"\n",
    "print(frase.replace(\"odeio\", \"amo muito\"))"
   ]
  },
  {
   "cell_type": "markdown",
   "id": "bf5e453f",
   "metadata": {},
   "source": [
    "c) Divisão de Strings"
   ]
  },
  {
   "cell_type": "code",
   "execution_count": 14,
   "id": "164d4642",
   "metadata": {},
   "outputs": [
    {
     "name": "stdout",
     "output_type": "stream",
     "text": [
      "['python', 'programação', 'jovens']\n"
     ]
    }
   ],
   "source": [
    "hashtags = \"python#programação#jovens\"  \n",
    "print(hashtags.split(\"#\"))  # [\"python\", \"programação\", \"jovens\"]"
   ]
  },
  {
   "cell_type": "code",
   "execution_count": 15,
   "id": "3ea99765",
   "metadata": {},
   "outputs": [
    {
     "name": "stdout",
     "output_type": "stream",
     "text": [
      "['oprofessor', 'de', 'python', 'é', 'o', 'melhor']\n"
     ]
    }
   ],
   "source": [
    "ache_a_frase = \"oprofessor1de1python1é1o1melhor\"\n",
    "print (ache_a_frase.split(\"1\"))"
   ]
  },
  {
   "cell_type": "markdown",
   "id": "76a1722a",
   "metadata": {},
   "source": [
    "d) Remoção de Espaços"
   ]
  },
  {
   "cell_type": "code",
   "execution_count": 16,
   "id": "84eb0e89",
   "metadata": {},
   "outputs": [
    {
     "name": "stdout",
     "output_type": "stream",
     "text": [
      "olá\n"
     ]
    }
   ],
   "source": [
    "user_input = \"   olá   \"  \n",
    "print(user_input.strip())  # \"olá\" (remove espaços extras)"
   ]
  },
  {
   "cell_type": "code",
   "execution_count": null,
   "id": "6c279dc5",
   "metadata": {},
   "outputs": [],
   "source": []
  },
  {
   "cell_type": "markdown",
   "id": "f2ab3244",
   "metadata": {},
   "source": [
    "### 4 - Primeiro Desafio: Criar um \"Gerador de Username\" que:\n",
    "\n",
    "Pede o nome completo do usuário;\n",
    "\n",
    "Gera um username no formato nome.sobrenome (minúsculas, sem espaços)."
   ]
  },
  {
   "cell_type": "code",
   "execution_count": null,
   "id": "f43a2dfe",
   "metadata": {},
   "outputs": [],
   "source": [
    "nome = \"yasmin\"  \n",
    "sobrenome = \"vitoria\"  \n",
    "nome_completo = nome + \" \" + sobrenome  \n",
    "print(nome_completo) \n"
   ]
  },
  {
   "cell_type": "code",
   "execution_count": null,
   "id": "9192c7f2",
   "metadata": {},
   "outputs": [],
   "source": []
  },
  {
   "cell_type": "markdown",
   "id": "25399d2d",
   "metadata": {},
   "source": [
    "### Segundo Desafio"
   ]
  },
  {
   "cell_type": "markdown",
   "id": "e790bc58",
   "metadata": {},
   "source": [
    "Verificar se uma senha tem pelo menos 8 caracteres:"
   ]
  },
  {
   "cell_type": "code",
   "execution_count": null,
   "id": "2d9ff656",
   "metadata": {},
   "outputs": [],
   "source": []
  },
  {
   "cell_type": "markdown",
   "id": "a58aa74f",
   "metadata": {},
   "source": [
    "### 5. Exercício Final\n",
    "\n",
    "Crie um \"Tradutor de Internetês\":\n",
    "\n",
    "Substitui palavras por abreviações (ex: \"você\" → \"vc\", \"tamo junto\" → \"tmj\").\n",
    "\n",
    "Dica: Use .replace() múltiplas vezes!"
   ]
  },
  {
   "cell_type": "code",
   "execution_count": null,
   "id": "abf41fae",
   "metadata": {},
   "outputs": [],
   "source": []
  },
  {
   "cell_type": "markdown",
   "id": "babd7a7c",
   "metadata": {},
   "source": [
    "### 6. Conclusão\n",
    "Recapitulação:\n",
    "\n",
    "Strings são textos delimitados por aspas.\n",
    "\n",
    "Podemos acessar letras, fatiar, converter, dividir e muito mais!\n",
    "\n",
    "Próxima Aula:\n",
    "\n",
    "Trabalhar com listas e loops em strings (ex: contar vogais).\n",
    "\n",
    "Feedback:\n",
    "\n",
    "\"O que vocês acharam mais útil? Alguma dúvida para tirar?\""
   ]
  }
 ],
 "metadata": {
  "kernelspec": {
   "display_name": "Python 3",
   "language": "python",
   "name": "python3"
  },
  "language_info": {
   "codemirror_mode": {
    "name": "ipython",
    "version": 3
   },
   "file_extension": ".py",
   "mimetype": "text/x-python",
   "name": "python",
   "nbconvert_exporter": "python",
   "pygments_lexer": "ipython3",
   "version": "3.13.2"
  }
 },
 "nbformat": 4,
 "nbformat_minor": 5
}
