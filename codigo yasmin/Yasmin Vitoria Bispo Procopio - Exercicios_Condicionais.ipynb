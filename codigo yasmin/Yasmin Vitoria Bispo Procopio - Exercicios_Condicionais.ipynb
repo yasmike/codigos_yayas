{
 "cells": [
  {
   "cell_type": "markdown",
   "id": "633160a3",
   "metadata": {},
   "source": [
    "### 📝Lista de Exercícios: Condicionais IF/ELSE"
   ]
  },
  {
   "cell_type": "markdown",
   "id": "605d2a7e",
   "metadata": {},
   "source": [
    "Exercício 1 - Maioridade 🔞\n",
    "\n",
    "Crie um programa que pergunta a idade do usuário e diz se ele é maior ou menor de idade."
   ]
  },
  {
   "cell_type": "code",
   "execution_count": 8,
   "id": "93ea230f",
   "metadata": {},
   "outputs": [
    {
     "name": "stdout",
     "output_type": "stream",
     "text": [
      "Menor de idade\n"
     ]
    }
   ],
   "source": [
    "idade = int(input(\"Quantos anos você tem? \"))\n",
    "\n",
    "# Complete o código aqui\n",
    "if idade >= 18:\n",
    "    print('Maior de idade')\n",
    "else: \n",
    "    print('Menor de idade')\n"
   ]
  },
  {
   "cell_type": "markdown",
   "id": "6e9528f5",
   "metadata": {},
   "source": [
    "Exercício 2 - Aprovação na Prova 🧠\n",
    "\n",
    "Faça um programa que pergunte a nota de um aluno (0 a 10) e diz se ele foi aprovado(nota >= 5) ou reprovado (nota <5)."
   ]
  },
  {
   "cell_type": "code",
   "execution_count": 10,
   "id": "4a9f8f8b",
   "metadata": {},
   "outputs": [
    {
     "name": "stdout",
     "output_type": "stream",
     "text": [
      "reprovado\n"
     ]
    }
   ],
   "source": [
    "nota = float(input(\"Informe a sua nota de (0 a 10)\"))\n",
    "\n",
    "# Complete o código aqui\n",
    "if  nota >= 5:\n",
    "    print('aprovado')\n",
    "else:\n",
    "    print('reprovado')\n"
   ]
  },
  {
   "cell_type": "markdown",
   "id": "9f8e9b92",
   "metadata": {},
   "source": [
    "Exercicio 3 - CNH 🚘🚙\n",
    "\n",
    " 1º - Peça ao usuário que digite a idade dele.\n",
    "\n",
    " 2º - Peça pra ele dizer se foi aprovado ou reprovado no curso de cnh.\n",
    "\n",
    " 3º - Use if e else para verificar se ele tem 18 anos ou mais e se foi aprovado.\n",
    "\n",
    " 4º - Se as condições do passo 3 estiverem certas, print(\"pode dirigir\").\n",
    " \n",
    " 5º - Se não print(\"vai andar a pé\")"
   ]
  },
  {
   "cell_type": "code",
   "execution_count": 13,
   "id": "bee9f043",
   "metadata": {},
   "outputs": [
    {
     "name": "stdout",
     "output_type": "stream",
     "text": [
      "pode dirigir\n"
     ]
    }
   ],
   "source": [
    "### Seu código aqui\n",
    "idade = float(input(\"qual a sua idade?\"))\n",
    "cnh = input(\"voce foi aprovado no curso? (sim ou nao)?\")\n",
    "if  idade >= 18 and cnh == \"sim\":\n",
    "    print('pode dirigir')\n",
    "else:\n",
    "    print('nao pode dirigir')\n"
   ]
  },
  {
   "cell_type": "markdown",
   "id": "e9c60d12",
   "metadata": {},
   "source": [
    "Exercício 4 - Calculadora de Desconto. 💵 🤑\n",
    "\n",
    "Uma loja dá 10% de desconto para compras acima de R$ 100,00. Faça um programa que:\n",
    "\n",
    "1º - Pergunta o valor da compra.\n",
    "\n",
    "2º - Calcula o valor final com desconto (se aplicável).\n",
    "\n",
    "3º - Mostra o valor a pagar."
   ]
  },
  {
   "cell_type": "code",
   "execution_count": null,
   "id": "5edc8855",
   "metadata": {},
   "outputs": [
    {
     "name": "stdout",
     "output_type": "stream",
     "text": [
      "valor final : 490\n"
     ]
    }
   ],
   "source": [
    "### Seu código aqui\n",
    "compra = float(input(\"qual o valor da sua compra?\"))\n",
    "desconto = 10\n",
    "subtraçao= compra - desconto\n",
    "print(\"valor final :\", subtraçao)"
   ]
  },
  {
   "cell_type": "markdown",
   "id": "ec96b43c",
   "metadata": {},
   "source": [
    "Exercício 5 - Classificação de Notas 🧑‍🎓\n",
    "\n",
    "Pergunte a nota de um aluno e dependendo da nota que ele informar, o classifique de acordo com as regras abaixo:\n",
    "\n",
    "Classifique a nota do aluno:\n",
    "\n",
    "- 9 até 10: \"Excelente\"\n",
    "\n",
    "- 7 até 8.9: \"Bom\"\n",
    "\n",
    "- 5 até 6.9: \"Regular\"\n",
    "\n",
    "- 0 até 4.9: \"Reprovado\"\n",
    "\n",
    "mostre para o aluno a classificação dele através de um print, exemplo print(\"Excelente\")."
   ]
  },
  {
   "cell_type": "code",
   "execution_count": 30,
   "id": "465c6812",
   "metadata": {},
   "outputs": [
    {
     "name": "stdout",
     "output_type": "stream",
     "text": [
      "excelente\n"
     ]
    }
   ],
   "source": [
    "nota = float(input(\"qual a sua nota?: \"))\n",
    "\n",
    "if  nota >= 9 and nota <= 10:\n",
    "    print(\"excelente\")\n",
    "elif  nota >= 7 and nota <= 8.9:\n",
    "    print(\"bom\")\n",
    "elif  nota >= 5 and nota <= 6.9:\n",
    "    print(\"regular\")\n",
    "else :\n",
    "    print(\"reprovado\")\n",
    "\n",
    "\n"
   ]
  },
  {
   "cell_type": "markdown",
   "id": "251b0fa7",
   "metadata": {},
   "source": [
    "Exercício 6 - Acesso ao Sistema 🔑\n",
    "\n",
    "Crie um login simples:\n",
    "\n",
    "- usuario_correto = \"admin\"\n",
    "\n",
    "- senha_correta = \"1234\"\n",
    "\n",
    "**Peça para o usuário digitar primeiro o login e depois a senha, caso login e senha estejam corretos programa deve mostrar \"Acesso permitido\" se não \"Acesso negado\"**\n"
   ]
  },
  {
   "cell_type": "code",
   "execution_count": 31,
   "id": "7fcf16db",
   "metadata": {},
   "outputs": [
    {
     "name": "stdout",
     "output_type": "stream",
     "text": [
      "acesso permitido, bem vindo ao sistema admin\n"
     ]
    }
   ],
   "source": [
    "usuario_correto= \"admin\"\n",
    "senha_correta = 1234\n",
    "\n",
    "login = input(\"qual o seu login?\")\n",
    "senha = int(input(\"digite sua senha\"))\n",
    "\n",
    "if login == usuario_correto and senha==senha_correta:\n",
    "    print(f\"acesso permitido, bem vindo ao sistema {login}\")\n",
    "else:\n",
    "    print (\"acesso negado\")"
   ]
  },
  {
   "cell_type": "markdown",
   "id": "46c27406",
   "metadata": {},
   "source": [
    "Exercício 7 - Maior Número 📉\n",
    "\n",
    "Peça 3 números e mostre qual é o maior deles."
   ]
  },
  {
   "cell_type": "code",
   "execution_count": 12,
   "id": "f2e76062",
   "metadata": {},
   "outputs": [
    {
     "name": "stdout",
     "output_type": "stream",
     "text": [
      "o maior numero é 10\n"
     ]
    }
   ],
   "source": [
    "primeiro_numero= int(input(\"me fale 1 numero\"))\n",
    "segundo_numero= int(input(\"me fale 1 numero\"))\n",
    "terceiro_numero= int(input(\"me fale 1 numero\"))\n",
    "if primeiro_numero > segundo_numero and primeiro_numero >terceiro_numero:\n",
    "    print (f\"o maior numero é {primeiro_numero}\")\n",
    "elif segundo_numero> primeiro_numero and segundo_numero> terceiro_numero:\n",
    "    print (f\"o maior numero é {segundo_numero}\")\n",
    "else:\n",
    "    print (f\"o maior numero é {terceiro_numero}\")\n",
    "\n"
   ]
  },
  {
   "cell_type": "markdown",
   "id": "984fe0fe",
   "metadata": {},
   "source": [
    "Exercício 8 - Dia da Semana\n",
    "Peça um número de 1 a 7 e mostre o dia da semana correspondente: 📅\n",
    "\n",
    "- 1: Domingo\n",
    "\n",
    "- 2: Segunda\n",
    "\n",
    "- ... até 7: Sábado"
   ]
  },
  {
   "cell_type": "code",
   "execution_count": 13,
   "id": "f34c6fbf",
   "metadata": {},
   "outputs": [
    {
     "name": "stdout",
     "output_type": "stream",
     "text": [
      "o dia é sabado \n"
     ]
    }
   ],
   "source": [
    "numero= int(input(\"me fale um numero de 1 a 7\"))\n",
    "if numero == 1:\n",
    "    print (\" o dia é domingo\")\n",
    "elif numero == 2:\n",
    "    print ( \"o dia é segunda \")\n",
    "elif numero == 3:\n",
    "    print ( \"o dia é terça \")\n",
    "elif numero == 4:\n",
    "    print ( \"o dia é quarta\")\n",
    "elif numero == 5:\n",
    "    print ( \"o dia é quinta\")\n",
    "elif numero == 6:\n",
    "    print ( \"o dia é sexta \")\n",
    "else:\n",
    "    print ( \"o dia é sabado \")\n",
    "\n"
   ]
  },
  {
   "cell_type": "markdown",
   "id": "f1f760b7",
   "metadata": {},
   "source": [
    "Exercício 9 - Calculadora Simples 📏📐\n",
    "\n",
    "- Faça uma calculadora que:\n",
    "\n",
    "- Pede dois números\n",
    "\n",
    "- Pede a operação (+, -, *, /)\n",
    "\n",
    "- Dependendo da operação mostre o resultado.\n",
    "\n"
   ]
  },
  {
   "cell_type": "code",
   "execution_count": 11,
   "id": "95c6ce03",
   "metadata": {},
   "outputs": [
    {
     "name": "stdout",
     "output_type": "stream",
     "text": [
      "Soma: 14.0\n",
      "Subtração: -4.0\n",
      "Multiplicação: 45.0\n",
      "Divisão: 0.5555555555555556\n"
     ]
    }
   ],
   "source": [
    "calculadora1= float(input(\"me fale 1 numero\"))\n",
    "calculadora2= float(input(\"me fala outro numero\"))\n",
    "\n",
    "soma = calculadora1 + calculadora2\n",
    "subtracao = calculadora1 - calculadora2\n",
    "multiplicacao = calculadora1 * calculadora2\n",
    "divisao = calculadora1 / calculadora2\n",
    "\n",
    "print(\"Soma:\", soma)\n",
    "print(\"Subtração:\", subtracao)\n",
    "print(\"Multiplicação:\", multiplicacao)\n",
    "print(\"Divisão:\", divisao)"
   ]
  },
  {
   "cell_type": "code",
   "execution_count": 19,
   "id": "07de707a",
   "metadata": {},
   "outputs": [
    {
     "name": "stdout",
     "output_type": "stream",
     "text": [
      "Multiplicação: 64.0\n"
     ]
    }
   ],
   "source": [
    "calculadora1= float(input(\"me fale 1 numero\"))\n",
    "calculadora2= float(input(\"me fala outro numero\"))\n",
    "conta = input(\"Qual tipo de conta você desea fazer ?\")\n",
    "\n",
    "soma = calculadora1 + calculadora2\n",
    "subtracao = calculadora1 - calculadora2\n",
    "multiplicacao = calculadora1 * calculadora2\n",
    "divisao = calculadora1 / calculadora2\n",
    "\n",
    "if conta == \"+\":\n",
    "    print(\"Soma:\", soma)\n",
    "elif conta == \"-\":\n",
    "    print(\"Subtração:\", subtracao)\n",
    "elif conta == \"*\":\n",
    "    print(\"Multiplicação:\", multiplicacao)\n",
    "else :\n",
    "    print(\"Subtração:\", subtracao)\n",
    "\n",
    "  "
   ]
  },
  {
   "cell_type": "markdown",
   "id": "f39f6b73",
   "metadata": {},
   "source": [
    "Exercício 10 - Sistema de Multas 🚙🚘🧾\n",
    "\n",
    "\n",
    "- Velocidade máxima: 80 km/h 🚫\n",
    "\n",
    "- Até 80: \"Sem multa\"\n",
    "\n",
    "- 81-100: \"Multa leve\"\n",
    "\n",
    "- Acima de 100: \"Multa grave\""
   ]
  },
  {
   "cell_type": "code",
   "execution_count": 17,
   "id": "20fdc977",
   "metadata": {},
   "outputs": [
    {
     "name": "stdout",
     "output_type": "stream",
     "text": [
      "sem multa\n"
     ]
    }
   ],
   "source": [
    "velocidade= float(input(\"qual a sua velocidade?: \"))\n",
    "\n",
    "if  velocidade <= 80 :\n",
    "    print(\"sem multa\")\n",
    "elif  velocidade >= 81 and velocidade <= 100:\n",
    "    print(\"multa leve\")\n",
    "elif  velocidade >= 100:\n",
    "    print(\"multa grave\")\n"
   ]
  }
 ],
 "metadata": {
  "kernelspec": {
   "display_name": "Python 3",
   "language": "python",
   "name": "python3"
  },
  "language_info": {
   "codemirror_mode": {
    "name": "ipython",
    "version": 3
   },
   "file_extension": ".py",
   "mimetype": "text/x-python",
   "name": "python",
   "nbconvert_exporter": "python",
   "pygments_lexer": "ipython3",
   "version": "3.13.2"
  }
 },
 "nbformat": 4,
 "nbformat_minor": 5
}
