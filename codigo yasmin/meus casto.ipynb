{
 "cells": [
  {
   "cell_type": "markdown",
   "id": "7ca9c0c9",
   "metadata": {},
   "source": [
    "### clt "
   ]
  },
  {
   "cell_type": "code",
   "execution_count": null,
   "id": "6ff7a750",
   "metadata": {},
   "outputs": [],
   "source": [
    "salario = 1200\n",
    "gasolina = 200\n",
    "net= 200\n",
    "alimentaçao= 1500\n",
    "agua = 100\n",
    "luz = 300\n",
    "condominio = 570\n",
    "entretenimento = 1200\n",
    "quanto_sobra= ( salario + gasolina +net + alimentaçao+agua+luz+ condominio +entretenimento)\n",
    "\n",
    "print(f\"voce ficara devendo (quanto_sobra)\")"
   ]
  }
 ],
 "metadata": {
  "kernelspec": {
   "display_name": "Python 3",
   "language": "python",
   "name": "python3"
  },
  "language_info": {
   "name": "python",
   "version": "3.13.2"
  }
 },
 "nbformat": 4,
 "nbformat_minor": 5
}
